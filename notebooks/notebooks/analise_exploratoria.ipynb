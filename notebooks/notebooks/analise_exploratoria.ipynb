# Este é um Jupyter Notebook de exemplo para a análise exploratória de dados de saúde.
# Conteúdo real do notebook estaria aqui, incluindo código Python, gráficos e texto.
